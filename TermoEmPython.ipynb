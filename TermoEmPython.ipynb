{
  "nbformat": 4,
  "nbformat_minor": 0,
  "metadata": {
    "colab": {
      "provenance": [],
      "authorship_tag": "ABX9TyO0iZ/tBhqE5WWSnhDHOxKO",
      "include_colab_link": true
    },
    "kernelspec": {
      "name": "python3",
      "display_name": "Python 3"
    },
    "language_info": {
      "name": "python"
    }
  },
  "cells": [
    {
      "cell_type": "markdown",
      "metadata": {
        "id": "view-in-github",
        "colab_type": "text"
      },
      "source": [
        "<a href=\"https://colab.research.google.com/github/PietroCarvalho125/PA_2025/blob/main/TermoEmPython.ipynb\" target=\"_parent\"><img src=\"https://colab.research.google.com/assets/colab-badge.svg\" alt=\"Open In Colab\"/></a>"
      ]
    },
    {
      "cell_type": "code",
      "execution_count": null,
      "metadata": {
        "id": "UsfG3m-HEkew"
      },
      "outputs": [],
      "source": [
        "import random\n",
        "\n",
        "palavras = [\"CASAS\", \"TEMPO\", \"SONHO\", \"LUZES\", \"VIDAS\", \"PEDRA\", \"FORTE\"]\n",
        "\n",
        "while True:\n",
        "    secreta = random.choice(palavras)\n",
        "    for i in range(6):\n",
        "        palpite = input(f\"Tentativa {i+1}: \").upper()\n",
        "        if len(palpite) != 5:\n",
        "            print(\"5 letras!\")\n",
        "            continue\n",
        "        resultado = \"\"\n",
        "        for j in range(5):\n",
        "            if palpite[j] == secreta[j]:\n",
        "                resultado += palpite[j]\n",
        "            elif palpite[j] in secreta:\n",
        "                resultado += \"*\"\n",
        "            else:\n",
        "                resultado += \"-\"\n",
        "        print(resultado)\n",
        "        if palpite == secreta:\n",
        "            print(\"Acertou!\")\n",
        "            break\n",
        "    else:\n",
        "        print(\"Perdeu! A palavra era:\", secreta)\n",
        "    if input(\"Jogar de novo? (s/n) \").lower() != \"s\":\n",
        "        break\n"
      ]
    }
  ]
}