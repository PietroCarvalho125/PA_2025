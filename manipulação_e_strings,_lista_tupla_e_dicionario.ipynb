{
  "nbformat": 4,
  "nbformat_minor": 0,
  "metadata": {
    "colab": {
      "provenance": [],
      "authorship_tag": "ABX9TyOKbSFl9fsge8OmjyWPh9Qn",
      "include_colab_link": true
    },
    "kernelspec": {
      "name": "python3",
      "display_name": "Python 3"
    },
    "language_info": {
      "name": "python"
    }
  },
  "cells": [
    {
      "cell_type": "markdown",
      "metadata": {
        "id": "view-in-github",
        "colab_type": "text"
      },
      "source": [
        "<a href=\"https://colab.research.google.com/github/PietroCarvalho125/PA_2025/blob/main/manipula%C3%A7%C3%A3o_e_strings%2C_lista_tupla_e_dicionario.ipynb\" target=\"_parent\"><img src=\"https://colab.research.google.com/assets/colab-badge.svg\" alt=\"Open In Colab\"/></a>"
      ]
    },
    {
      "cell_type": "markdown",
      "source": [
        "# Manipulação de strings"
      ],
      "metadata": {
        "id": "i5D1dhn52FGr"
      }
    },
    {
      "cell_type": "code",
      "execution_count": 1,
      "metadata": {
        "colab": {
          "base_uri": "https://localhost:8080/"
        },
        "id": "lYhozRAH13CM",
        "outputId": "2d7abff4-88d1-4f6e-db4b-5ff8f8a5a899"
      },
      "outputs": [
        {
          "output_type": "stream",
          "name": "stdout",
          "text": [
            "11\n"
          ]
        }
      ],
      "source": [
        "# 1 - Use o método len para imprimir o comprimento da string.\n",
        "x = \"Hello World\"\n",
        "print(len(x))"
      ]
    },
    {
      "cell_type": "code",
      "source": [
        "# 2 - Obtenha o primeiro caractere da string txt.\n",
        "txt = \"Hello World\"\n",
        "x = txt[0]\n",
        "print(x)"
      ],
      "metadata": {
        "colab": {
          "base_uri": "https://localhost:8080/"
        },
        "id": "VMJmO3sd2Tuy",
        "outputId": "90100213-5c12-48b7-e513-46d812ab6f77"
      },
      "execution_count": 2,
      "outputs": [
        {
          "output_type": "stream",
          "name": "stdout",
          "text": [
            "H\n"
          ]
        }
      ]
    },
    {
      "cell_type": "code",
      "source": [
        "# 3 - Obtenha os caracteres do índice 2 ao índice 4 ( llo).\n",
        "txt = \"Hello World\"\n",
        "x = txt[2:5]\n",
        "print(x)"
      ],
      "metadata": {
        "colab": {
          "base_uri": "https://localhost:8080/"
        },
        "id": "-e8m501r2Xrf",
        "outputId": "153e502e-a43e-4b3f-cef5-f1ad32a35426"
      },
      "execution_count": 3,
      "outputs": [
        {
          "output_type": "stream",
          "name": "stdout",
          "text": [
            "llo\n"
          ]
        }
      ]
    },
    {
      "cell_type": "code",
      "source": [
        "# 4 - Converta o valor de txt para maiúsculas.\n",
        "txt = \"Hello World\"\n",
        "txt = txt.upper()\n",
        "print(txt)"
      ],
      "metadata": {
        "colab": {
          "base_uri": "https://localhost:8080/"
        },
        "id": "ocdES53q2aMv",
        "outputId": "d414ace4-4acf-472e-a00a-efc81ecd2ea6"
      },
      "execution_count": 4,
      "outputs": [
        {
          "output_type": "stream",
          "name": "stdout",
          "text": [
            "HELLO WORLD\n"
          ]
        }
      ]
    },
    {
      "cell_type": "code",
      "source": [
        "# 5 - Conte quantas vezes aparece a palavra \"de\" na string abaixo\n",
        "txt = \"Eu gosto de viajar, tomar refri, de estudar programação, de estudar Pyhon\"\n",
        "txt = txt.count(\"de\")\n",
        "print(txt)"
      ],
      "metadata": {
        "colab": {
          "base_uri": "https://localhost:8080/"
        },
        "id": "-_SFRon_2aZQ",
        "outputId": "efe1cd94-3bcf-4bca-b195-d16c2340f0e6"
      },
      "execution_count": 5,
      "outputs": [
        {
          "output_type": "stream",
          "name": "stdout",
          "text": [
            "3\n"
          ]
        }
      ]
    },
    {
      "cell_type": "code",
      "source": [
        "# 6 - Separe a frase abaixo toda vez que encontrar um vírgula\n",
        "txt = \"Eu gosto de vijar, tomar refri, de estudar programação, de estudar Pyhon\"\n",
        "txt = txt.split(',')\n",
        "print(txt)"
      ],
      "metadata": {
        "colab": {
          "base_uri": "https://localhost:8080/"
        },
        "id": "Ti0V3ZOU2ahi",
        "outputId": "f880e1a0-9948-4f74-f39d-e090f643919c"
      },
      "execution_count": 6,
      "outputs": [
        {
          "output_type": "stream",
          "name": "stdout",
          "text": [
            "['Eu gosto de vijar', ' tomar refri', ' de estudar programação', ' de estudar Pyhon']\n"
          ]
        }
      ]
    },
    {
      "cell_type": "code",
      "source": [
        "#7 - Peça ao usuário uma frase e substitua todas as ocorrências de espaço por “#”.\n",
        "txt = str(input(\"Digite uma frase: \"))\n",
        "rp = txt.replace(' ', '#')\n",
        "print(rp)"
      ],
      "metadata": {
        "colab": {
          "base_uri": "https://localhost:8080/"
        },
        "id": "LGlsik_j2ap0",
        "outputId": "827b746a-1125-4aaf-d58b-1157e06a5b99"
      },
      "execution_count": 7,
      "outputs": [
        {
          "output_type": "stream",
          "name": "stdout",
          "text": [
            "Digite uma frase: Abigail Esperancin\n",
            "Abigail#Esperancin\n"
          ]
        }
      ]
    },
    {
      "cell_type": "code",
      "source": [
        "# 8 - Faça um programa que retorne True se duas strings lidas do teclado são palíndromas mútuas, ou seja, se uma é igual à outra quando lida de traz para frente ou False, se não forem.\n",
        "# Por exemplo: amor e roma\n",
        "str1 = input(\"Digite a primeira primeira palavra: \")\n",
        "str2 = input(\"Digite a segunda palavra: \")\n",
        "\n",
        "\n",
        "resultado = str1 == str2[::-1]\n",
        "\n",
        "print(resultado)"
      ],
      "metadata": {
        "colab": {
          "base_uri": "https://localhost:8080/"
        },
        "id": "dYBQo6l32j2W",
        "outputId": "4218dddc-e0cb-4b01-80e7-d1d095837804"
      },
      "execution_count": 8,
      "outputs": [
        {
          "output_type": "stream",
          "name": "stdout",
          "text": [
            "Digite a primeira primeira palavra: Rafael teixeira\n",
            "Digite a segunda palavra: Moura Junior\n",
            "False\n"
          ]
        }
      ]
    },
    {
      "cell_type": "code",
      "source": [
        "# 9- Faça um programa que leia o nome do usuário e mostre o nome de traz para frente, utilizando somente letras maiúsculas.\n",
        "txt = str(input('Digite seu nome: '))\n",
        "contra = txt[::-1]\n",
        "maius = contra.upper()\n",
        "print(maius)"
      ],
      "metadata": {
        "colab": {
          "base_uri": "https://localhost:8080/"
        },
        "id": "ozaIDuqu2j-e",
        "outputId": "21f8aee8-2e5d-4d0c-ccc7-c26905f41f93"
      },
      "execution_count": 9,
      "outputs": [
        {
          "output_type": "stream",
          "name": "stdout",
          "text": [
            "Digite seu nome: Pietro Carvalho Bueno\n",
            "ONEUB OHLAVRAC ORTEIP\n"
          ]
        }
      ]
    },
    {
      "cell_type": "markdown",
      "source": [
        "#Listas_Tuplas e Dicionarios"
      ],
      "metadata": {
        "id": "Afp75vfh2sfq"
      }
    },
    {
      "cell_type": "code",
      "source": [
        "# 1 seu código aqui...\n",
        "cidades = [\"São Paulo\", \"Rio de Janeiro\", \"Belo Horizonte\", \"Curitiba\", \"Porto Alegre\"]\n",
        "cidades.append(\"Florianópolis\")\n",
        "cidades.pop(1)\n",
        "print(cidades)"
      ],
      "metadata": {
        "colab": {
          "base_uri": "https://localhost:8080/"
        },
        "id": "dZpf7ubV26HZ",
        "outputId": "698c284e-204b-439d-b0a0-71543353732d"
      },
      "execution_count": 10,
      "outputs": [
        {
          "output_type": "stream",
          "name": "stdout",
          "text": [
            "['São Paulo', 'Belo Horizonte', 'Curitiba', 'Porto Alegre', 'Florianópolis']\n"
          ]
        }
      ]
    },
    {
      "cell_type": "code",
      "source": [
        "# 2  seu código aqui...\n",
        "cores = (\"vermelho\", \"azul\", \"verde\", \"amarelo\")\n",
        "novas_cores = cores + (\"preto\", \"branco\")\n",
        "print(novas_cores)"
      ],
      "metadata": {
        "colab": {
          "base_uri": "https://localhost:8080/"
        },
        "id": "NwfXtMjz3B5q",
        "outputId": "74d7ad64-015b-4b06-8bd4-d9d72eea97de"
      },
      "execution_count": 11,
      "outputs": [
        {
          "output_type": "stream",
          "name": "stdout",
          "text": [
            "('vermelho', 'azul', 'verde', 'amarelo', 'preto', 'branco')\n"
          ]
        }
      ]
    },
    {
      "cell_type": "code",
      "source": [
        "# 3 seu código aqui...\n",
        "aluno = {\"nome\": \"Maria\", \"idade\": 20, \"curso\": \"Engenharia\"}\n",
        "aluno[\"idade\"] = 21\n",
        "aluno[\"nota\"] = 9.5\n",
        "print(aluno)"
      ],
      "metadata": {
        "colab": {
          "base_uri": "https://localhost:8080/"
        },
        "id": "gqVyOn2R3CDl",
        "outputId": "50e946a3-372e-4ac3-900b-265119d4f3ac"
      },
      "execution_count": 12,
      "outputs": [
        {
          "output_type": "stream",
          "name": "stdout",
          "text": [
            "{'nome': 'Maria', 'idade': 21, 'curso': 'Engenharia', 'nota': 9.5}\n"
          ]
        }
      ]
    },
    {
      "cell_type": "code",
      "source": [
        "# 4 seu código aqui...\n",
        "produtos = [\n",
        "    {\"nome\": \"Notebook\", \"preço\": 3500},\n",
        "    {\"nome\": \"Celular\", \"preço\": 2000},\n",
        "    {\"nome\": \"Fone de Ouvido\", \"preço\": 150}\n",
        "]\n",
        "\n",
        "produtos.append({\"nome\": \"Mouse\", \"preço\": 80})\n",
        "produtos[0][\"preço\"] = 3200\n",
        "print(produtos)"
      ],
      "metadata": {
        "colab": {
          "base_uri": "https://localhost:8080/"
        },
        "id": "wbEK1P8x3CNo",
        "outputId": "af801ff2-7892-488a-d9e2-8807abcec961"
      },
      "execution_count": 13,
      "outputs": [
        {
          "output_type": "stream",
          "name": "stdout",
          "text": [
            "[{'nome': 'Notebook', 'preço': 3200}, {'nome': 'Celular', 'preço': 2000}, {'nome': 'Fone de Ouvido', 'preço': 150}, {'nome': 'Mouse', 'preço': 80}]\n"
          ]
        }
      ]
    },
    {
      "cell_type": "code",
      "source": [
        "# 5 seu código aqui...\n",
        "dados = [\n",
        "    (\"Rafael\", 30),\n",
        "    (\"Teixeira\", 25),\n",
        "    (\"Moura\", 28),\n",
        "    (\"Junior\", 35)\n",
        "]"
      ],
      "metadata": {
        "id": "EuEGcAu13CXG"
      },
      "execution_count": 14,
      "outputs": []
    },
    {
      "cell_type": "code",
      "source": [
        "maisvelho = 0\n",
        "nomevelho = \"\"\n",
        "\n",
        "if (dados[0][1])> maisvelho:\n",
        "  maisvelho = dados[0][1]\n",
        "  nomevelho = dados[0][0]\n",
        "\n",
        "if (dados[1][1])> maisvelho:\n",
        "  maisvelho = dados[1][1]\n",
        "  nomevelho = dados[1][0]\n",
        "\n",
        "if (dados[2][1])> maisvelho:\n",
        "  maisvelho = dados[2][1]\n",
        "  nomevelho = dados[2][0]\n",
        "\n",
        "if (dados[3][1])> maisvelho:\n",
        "  maisvelho = dados[3][1]\n",
        "  nomevelho = dados[3][0]\n",
        "media = (dados[0][1] + dados[1][1] + dados[2][1] + dados[3][1])/4\n",
        "\n",
        "print(f\"A pessoa mais velha é: {nomevelho} , e a media de idade é:{media}\")"
      ],
      "metadata": {
        "colab": {
          "base_uri": "https://localhost:8080/"
        },
        "id": "U8bFXhcO3dAr",
        "outputId": "295b2946-8055-4f51-c5f8-738501f8d46b"
      },
      "execution_count": 15,
      "outputs": [
        {
          "output_type": "stream",
          "name": "stdout",
          "text": [
            "A pessoa mais velha é: Junior , e a media de idade é:29.5\n"
          ]
        }
      ]
    }
  ]
}