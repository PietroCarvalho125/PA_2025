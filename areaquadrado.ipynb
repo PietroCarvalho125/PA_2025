{
  "nbformat": 4,
  "nbformat_minor": 0,
  "metadata": {
    "colab": {
      "provenance": [],
      "authorship_tag": "ABX9TyM5Yi/0VDt+9/WWL4EQ29dM",
      "include_colab_link": true
    },
    "kernelspec": {
      "name": "python3",
      "display_name": "Python 3"
    },
    "language_info": {
      "name": "python"
    }
  },
  "cells": [
    {
      "cell_type": "markdown",
      "metadata": {
        "id": "view-in-github",
        "colab_type": "text"
      },
      "source": [
        "<a href=\"https://colab.research.google.com/github/PietroCarvalho125/PA_2025/blob/main/areaquadrado.ipynb\" target=\"_parent\"><img src=\"https://colab.research.google.com/assets/colab-badge.svg\" alt=\"Open In Colab\"/></a>"
      ]
    },
    {
      "cell_type": "code",
      "execution_count": 1,
      "metadata": {
        "id": "2dDZtAC9L6bi"
      },
      "outputs": [],
      "source": [
        "aula=\"hello word\""
      ]
    },
    {
      "cell_type": "code",
      "source": [
        "print(\"aula\")"
      ],
      "metadata": {
        "colab": {
          "base_uri": "https://localhost:8080/"
        },
        "id": "fATZAYraMFIg",
        "outputId": "8aa6d24d-ed52-4b4a-ba1f-970512d8c671"
      },
      "execution_count": 2,
      "outputs": [
        {
          "output_type": "stream",
          "name": "stdout",
          "text": [
            "aula\n"
          ]
        }
      ]
    },
    {
      "cell_type": "code",
      "source": [
        "#entrada\n",
        "lado=4\n",
        "area = lado * lado"
      ],
      "metadata": {
        "id": "wC4U6dJoMiMv"
      },
      "execution_count": 3,
      "outputs": []
    },
    {
      "cell_type": "code",
      "source": [
        "#saida\n",
        "print(\"a area do quadrado é?\", area)"
      ],
      "metadata": {
        "colab": {
          "base_uri": "https://localhost:8080/"
        },
        "id": "XmVl3DutMtsX",
        "outputId": "9698a92f-c82a-4219-980d-a58f2cdc5e00"
      },
      "execution_count": 4,
      "outputs": [
        {
          "output_type": "stream",
          "name": "stdout",
          "text": [
            "a area do quadrado é? 16\n"
          ]
        }
      ]
    }
  ]
}