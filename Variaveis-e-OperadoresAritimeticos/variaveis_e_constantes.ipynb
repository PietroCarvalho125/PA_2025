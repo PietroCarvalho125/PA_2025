{
  "nbformat": 4,
  "nbformat_minor": 0,
  "metadata": {
    "colab": {
      "provenance": [],
      "authorship_tag": "ABX9TyMrgkXqutF/YMjgRX42bU0p",
      "include_colab_link": true
    },
    "kernelspec": {
      "name": "python3",
      "display_name": "Python 3"
    },
    "language_info": {
      "name": "python"
    }
  },
  "cells": [
    {
      "cell_type": "markdown",
      "metadata": {
        "id": "view-in-github",
        "colab_type": "text"
      },
      "source": [
        "<a href=\"https://colab.research.google.com/github/PietroCarvalho125/PA_2025/blob/main/Variaveis-e-OperadoresAritimeticos/variaveis_e_constantes.ipynb\" target=\"_parent\"><img src=\"https://colab.research.google.com/assets/colab-badge.svg\" alt=\"Open In Colab\"/></a>"
      ]
    },
    {
      "cell_type": "markdown",
      "source": [
        "#variaveis e constantes"
      ],
      "metadata": {
        "id": "HSjRWm7ZgRA_"
      }
    },
    {
      "cell_type": "code",
      "execution_count": null,
      "metadata": {
        "id": "MmV9mIYCf9Re"
      },
      "outputs": [],
      "source": [
        "idade = 15\n",
        "altura = 1.75\n",
        "nome = \"Pietro\"\n",
        "vai = True"
      ]
    },
    {
      "cell_type": "code",
      "source": [
        "nomes =  [\"Pietro\",\"Juninho\",\"Lucas\"]\n",
        "nomes2 = (\"Pietro\",\"Juninho\",\"Lucas\")\n",
        "tudo = {nome:\"Pietro\",idade: 15,altura: 1.75}"
      ],
      "metadata": {
        "id": "Scnq5vgvicWc"
      },
      "execution_count": null,
      "outputs": []
    },
    {
      "cell_type": "code",
      "source": [
        "print(nome)\n",
        "print(nomes)\n",
        "print(nomes2)"
      ],
      "metadata": {
        "colab": {
          "base_uri": "https://localhost:8080/"
        },
        "id": "vvJ8-vRajPq7",
        "outputId": "9c8e5d9b-d936-4ef4-de06-c7d86cf29587"
      },
      "execution_count": null,
      "outputs": [
        {
          "output_type": "stream",
          "name": "stdout",
          "text": [
            "Pietro\n",
            "['Pietro', 'Juninho', 'Lucas']\n",
            "('Pietro', 'Juninho', 'Lucas')\n"
          ]
        }
      ]
    },
    {
      "cell_type": "code",
      "source": [
        "print(type(idade))\n",
        "print(type(altura))\n",
        "print(type(vai))\n",
        "print(type(nome))\n",
        "print(type(nomes))\n",
        "print(type(nomes2))"
      ],
      "metadata": {
        "colab": {
          "base_uri": "https://localhost:8080/"
        },
        "id": "CdCCIWG7kTA6",
        "outputId": "fca6141a-acb3-4624-c22a-dfc52f48f6d6"
      },
      "execution_count": null,
      "outputs": [
        {
          "output_type": "stream",
          "name": "stdout",
          "text": [
            "<class 'int'>\n",
            "<class 'float'>\n",
            "<class 'bool'>\n",
            "<class 'str'>\n",
            "<class 'list'>\n",
            "<class 'tuple'>\n"
          ]
        }
      ]
    },
    {
      "cell_type": "code",
      "source": [
        "print(\"O nome dele é:\", nome, \",sua idade é:\", idade,\"anos\", \",ele tem\", altura,\"metros de altura\" )"
      ],
      "metadata": {
        "colab": {
          "base_uri": "https://localhost:8080/"
        },
        "id": "Du3iKObmpPFx",
        "outputId": "ae5e506f-8681-4e45-bbf0-609fb15d680a"
      },
      "execution_count": null,
      "outputs": [
        {
          "output_type": "stream",
          "name": "stdout",
          "text": [
            "O nome dele é: Pietro ,sua idade é: 15 anos ,ele tem 1.75 metros de altura\n"
          ]
        }
      ]
    },
    {
      "cell_type": "code",
      "source": [
        "nome = \"Pietro\"\n",
        "idade = 15\n",
        "print(f\"nome: {nome}, idade: {idade} anos\")"
      ],
      "metadata": {
        "colab": {
          "base_uri": "https://localhost:8080/"
        },
        "id": "Y83pRcDCsYpL",
        "outputId": "759b88c9-0beb-4a18-d451-4458f0600524"
      },
      "execution_count": null,
      "outputs": [
        {
          "output_type": "stream",
          "name": "stdout",
          "text": [
            "nome: Pietro, idade: 15 anos\n"
          ]
        }
      ]
    },
    {
      "cell_type": "markdown",
      "source": [
        "#Area do Circulo"
      ],
      "metadata": {
        "id": "iKKckjPhvbrd"
      }
    },
    {
      "cell_type": "code",
      "source": [
        "PI = 3.14159\n",
        "raio = float(input(\"digite o valor do raio do circulo: \"))"
      ],
      "metadata": {
        "colab": {
          "base_uri": "https://localhost:8080/"
        },
        "id": "VD08RPdWvke8",
        "outputId": "84061b0d-e939-45c0-a549-877cd7a7340d"
      },
      "execution_count": null,
      "outputs": [
        {
          "name": "stdout",
          "output_type": "stream",
          "text": [
            "digite o valor do raio do circulo: 7\n"
          ]
        }
      ]
    },
    {
      "cell_type": "code",
      "source": [
        "areacir = PI * (raio**2)"
      ],
      "metadata": {
        "id": "Jwp3A0vWwdDi"
      },
      "execution_count": null,
      "outputs": []
    },
    {
      "cell_type": "code",
      "source": [
        "print(f\"A area do circulo é {areacir}\")"
      ],
      "metadata": {
        "colab": {
          "base_uri": "https://localhost:8080/"
        },
        "id": "8SSzmqO_xR0e",
        "outputId": "1e466ac7-dd61-4a25-e1f6-14672a0f0525"
      },
      "execution_count": null,
      "outputs": [
        {
          "output_type": "stream",
          "name": "stdout",
          "text": [
            "A area do circulo é 153.93791\n"
          ]
        }
      ]
    },
    {
      "cell_type": "markdown",
      "source": [
        "#Area do quadrado"
      ],
      "metadata": {
        "id": "05eOIUa0zrMp"
      }
    },
    {
      "cell_type": "code",
      "source": [
        "lado = float(input(\"digite o valor do lado: \"))\n",
        "areaquadr = lado ** 2\n",
        "print(f\"a area do quadrado é: {areaquadr}\")"
      ],
      "metadata": {
        "colab": {
          "base_uri": "https://localhost:8080/"
        },
        "id": "3HugQyhDzw_w",
        "outputId": "932d273d-b6d7-41e1-975e-8c3e84c3af14"
      },
      "execution_count": null,
      "outputs": [
        {
          "output_type": "stream",
          "name": "stdout",
          "text": [
            "digite o valor do lado: 8\n",
            "a area do quadrado é: 64.0\n"
          ]
        }
      ]
    }
  ]
}