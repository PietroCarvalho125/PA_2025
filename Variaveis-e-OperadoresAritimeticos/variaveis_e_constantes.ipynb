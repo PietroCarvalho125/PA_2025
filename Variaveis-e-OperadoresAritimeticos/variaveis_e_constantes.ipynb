{
  "nbformat": 4,
  "nbformat_minor": 0,
  "metadata": {
    "colab": {
      "provenance": [],
      "authorship_tag": "ABX9TyPt39so9JXL7f5BuixzDv5z",
      "include_colab_link": true
    },
    "kernelspec": {
      "name": "python3",
      "display_name": "Python 3"
    },
    "language_info": {
      "name": "python"
    }
  },
  "cells": [
    {
      "cell_type": "markdown",
      "metadata": {
        "id": "view-in-github",
        "colab_type": "text"
      },
      "source": [
        "<a href=\"https://colab.research.google.com/github/PietroCarvalho125/PA_2025/blob/main/Variaveis-e-OperadoresAritimeticos/variaveis_e_constantes.ipynb\" target=\"_parent\"><img src=\"https://colab.research.google.com/assets/colab-badge.svg\" alt=\"Open In Colab\"/></a>"
      ]
    },
    {
      "cell_type": "markdown",
      "source": [
        "#variaveis e constantes"
      ],
      "metadata": {
        "id": "HSjRWm7ZgRA_"
      }
    },
    {
      "cell_type": "code",
      "execution_count": null,
      "metadata": {
        "id": "MmV9mIYCf9Re"
      },
      "outputs": [],
      "source": [
        "idade = 15\n",
        "altura = 1.75\n",
        "nome = \"Pietro\"\n",
        "vai = True"
      ]
    },
    {
      "cell_type": "code",
      "source": [
        "nomes =  [\"Pietro\",\"Juninho\",\"Lucas\"]\n",
        "nomes2 = (\"Pietro\",\"Juninho\",\"Lucas\")\n",
        "tudo = {nome:\"Pietro\",idade: 15,altura: 1.75}"
      ],
      "metadata": {
        "id": "Scnq5vgvicWc"
      },
      "execution_count": null,
      "outputs": []
    },
    {
      "cell_type": "code",
      "source": [
        "print(nome)\n",
        "print(nomes)\n",
        "print(nomes2)"
      ],
      "metadata": {
        "colab": {
          "base_uri": "https://localhost:8080/"
        },
        "id": "vvJ8-vRajPq7",
        "outputId": "9c8e5d9b-d936-4ef4-de06-c7d86cf29587"
      },
      "execution_count": null,
      "outputs": [
        {
          "output_type": "stream",
          "name": "stdout",
          "text": [
            "Pietro\n",
            "['Pietro', 'Juninho', 'Lucas']\n",
            "('Pietro', 'Juninho', 'Lucas')\n"
          ]
        }
      ]
    },
    {
      "cell_type": "code",
      "source": [
        "print(type(idade))\n",
        "print(type(altura))\n",
        "print(type(vai))\n",
        "print(type(nome))\n",
        "print(type(nomes))\n",
        "print(type(nomes2))"
      ],
      "metadata": {
        "colab": {
          "base_uri": "https://localhost:8080/"
        },
        "id": "CdCCIWG7kTA6",
        "outputId": "fca6141a-acb3-4624-c22a-dfc52f48f6d6"
      },
      "execution_count": null,
      "outputs": [
        {
          "output_type": "stream",
          "name": "stdout",
          "text": [
            "<class 'int'>\n",
            "<class 'float'>\n",
            "<class 'bool'>\n",
            "<class 'str'>\n",
            "<class 'list'>\n",
            "<class 'tuple'>\n"
          ]
        }
      ]
    },
    {
      "cell_type": "code",
      "source": [
        "print(\"O nome dele é:\", nome, \",sua idade é:\", idade,\"anos\", \",ele tem\", altura,\"metros de altura\" )"
      ],
      "metadata": {
        "colab": {
          "base_uri": "https://localhost:8080/"
        },
        "id": "Du3iKObmpPFx",
        "outputId": "ae5e506f-8681-4e45-bbf0-609fb15d680a"
      },
      "execution_count": null,
      "outputs": [
        {
          "output_type": "stream",
          "name": "stdout",
          "text": [
            "O nome dele é: Pietro ,sua idade é: 15 anos ,ele tem 1.75 metros de altura\n"
          ]
        }
      ]
    },
    {
      "cell_type": "code",
      "source": [
        "nome = \"Pietro\"\n",
        "idade = 15\n",
        "print(f\"nome: {nome}, idade: {idade} anos\")"
      ],
      "metadata": {
        "colab": {
          "base_uri": "https://localhost:8080/"
        },
        "id": "Y83pRcDCsYpL",
        "outputId": "759b88c9-0beb-4a18-d451-4458f0600524"
      },
      "execution_count": null,
      "outputs": [
        {
          "output_type": "stream",
          "name": "stdout",
          "text": [
            "nome: Pietro, idade: 15 anos\n"
          ]
        }
      ]
    },
    {
      "cell_type": "markdown",
      "source": [
        "#Area do Circulo"
      ],
      "metadata": {
        "id": "iKKckjPhvbrd"
      }
    },
    {
      "cell_type": "code",
      "source": [
        "PI = 3.14159\n",
        "raio = float(input(\"digite o valor do raio do circulo: \"))"
      ],
      "metadata": {
        "colab": {
          "base_uri": "https://localhost:8080/"
        },
        "id": "VD08RPdWvke8",
        "outputId": "84061b0d-e939-45c0-a549-877cd7a7340d"
      },
      "execution_count": null,
      "outputs": [
        {
          "name": "stdout",
          "output_type": "stream",
          "text": [
            "digite o valor do raio do circulo: 7\n"
          ]
        }
      ]
    },
    {
      "cell_type": "code",
      "source": [
        "areacir = PI * (raio**2)"
      ],
      "metadata": {
        "id": "Jwp3A0vWwdDi"
      },
      "execution_count": null,
      "outputs": []
    },
    {
      "cell_type": "code",
      "source": [
        "print(f\"A area do circulo é {areacir}\")"
      ],
      "metadata": {
        "colab": {
          "base_uri": "https://localhost:8080/"
        },
        "id": "8SSzmqO_xR0e",
        "outputId": "1e466ac7-dd61-4a25-e1f6-14672a0f0525"
      },
      "execution_count": null,
      "outputs": [
        {
          "output_type": "stream",
          "name": "stdout",
          "text": [
            "A area do circulo é 153.93791\n"
          ]
        }
      ]
    },
    {
      "cell_type": "markdown",
      "source": [
        "#Area do quadrado"
      ],
      "metadata": {
        "id": "05eOIUa0zrMp"
      }
    },
    {
      "cell_type": "code",
      "source": [
        "lado = float(input(\"digite o valor do lado: \"))\n",
        "areaquadr = lado ** 2\n",
        "print(f\"a area do quadrado é: {areaquadr}\")"
      ],
      "metadata": {
        "colab": {
          "base_uri": "https://localhost:8080/"
        },
        "id": "3HugQyhDzw_w",
        "outputId": "932d273d-b6d7-41e1-975e-8c3e84c3af14"
      },
      "execution_count": null,
      "outputs": [
        {
          "output_type": "stream",
          "name": "stdout",
          "text": [
            "digite o valor do lado: 8\n",
            "a area do quadrado é: 64.0\n"
          ]
        }
      ]
    },
    {
      "cell_type": "markdown",
      "source": [
        "#Exercicios"
      ],
      "metadata": {
        "id": "x7OhmRxRo0Pr"
      }
    },
    {
      "cell_type": "markdown",
      "source": [
        "##Exercício 1 - Área do Retângulo\n",
        "\n",
        "Crie um programa que calcule a área de um retângulo usando uma constante para representar a base.\n",
        "\n",
        " Fórmula: A = base × altura"
      ],
      "metadata": {
        "id": "qmH3FpkHplzh"
      }
    },
    {
      "cell_type": "code",
      "source": [
        "base = float (input(\"digite o valor da base: \"))"
      ],
      "metadata": {
        "id": "ZA6klldhpscp",
        "outputId": "f2499ac2-bb27-4881-d6d9-3f3172c53f1e",
        "colab": {
          "base_uri": "https://localhost:8080/"
        }
      },
      "execution_count": 5,
      "outputs": [
        {
          "name": "stdout",
          "output_type": "stream",
          "text": [
            "digite o valor da base: 8\n"
          ]
        }
      ]
    },
    {
      "cell_type": "code",
      "source": [
        "altura = float(input(\"digite o valor da altura: \"))"
      ],
      "metadata": {
        "id": "ijayiMEPqbme",
        "outputId": "d0ca6db0-2141-4c96-ca35-ddb2772017b7",
        "colab": {
          "base_uri": "https://localhost:8080/"
        }
      },
      "execution_count": 6,
      "outputs": [
        {
          "name": "stdout",
          "output_type": "stream",
          "text": [
            "digite o valor da altura: 4\n"
          ]
        }
      ]
    },
    {
      "cell_type": "code",
      "source": [
        "arearet = base * altura\n",
        "print (f\"area do retangulo é: {arearet}\")"
      ],
      "metadata": {
        "id": "X3U2nlJTqo5p",
        "outputId": "d112b1a6-99d0-42b6-fa92-a142f7b0879f",
        "colab": {
          "base_uri": "https://localhost:8080/"
        }
      },
      "execution_count": 7,
      "outputs": [
        {
          "output_type": "stream",
          "name": "stdout",
          "text": [
            "area do retangulo é: 32.0\n"
          ]
        }
      ]
    },
    {
      "cell_type": "markdown",
      "source": [
        "##Exercício 2 – Perímetro do Círculo\n",
        "\n",
        "Crie um programa que calcule o perímetro de um círculo usando a constante π.\n",
        "\n",
        " Fórmula: P = 2 × π × r"
      ],
      "metadata": {
        "id": "GQLBkNJ3rHYb"
      }
    },
    {
      "cell_type": "code",
      "source": [
        "raio = float(input(\"digite o valor do raio: \"))"
      ],
      "metadata": {
        "id": "eloYwCOOrK5r",
        "outputId": "215523cb-004c-44c4-a58e-25073958adfb",
        "colab": {
          "base_uri": "https://localhost:8080/"
        }
      },
      "execution_count": 9,
      "outputs": [
        {
          "name": "stdout",
          "output_type": "stream",
          "text": [
            "digite o valor do raio: 8\n"
          ]
        }
      ]
    },
    {
      "cell_type": "code",
      "source": [
        "PI = 3.14159"
      ],
      "metadata": {
        "id": "hPjRxoZUrjhx"
      },
      "execution_count": 16,
      "outputs": []
    },
    {
      "cell_type": "code",
      "source": [
        "perimetrocir = 2* PI *raio"
      ],
      "metadata": {
        "id": "QB3ZS3hArvbG"
      },
      "execution_count": 18,
      "outputs": []
    },
    {
      "cell_type": "code",
      "source": [
        "print(f\"o perimetro do circulo é: {perimetrocir:.2f}\")"
      ],
      "metadata": {
        "id": "ODOXra92tLyi",
        "outputId": "f2e72d0d-367d-4ae4-a98a-c3ccbae441a5",
        "colab": {
          "base_uri": "https://localhost:8080/"
        }
      },
      "execution_count": 36,
      "outputs": [
        {
          "output_type": "stream",
          "name": "stdout",
          "text": [
            "o perimetro do circulo é: 50.27\n"
          ]
        }
      ]
    },
    {
      "cell_type": "markdown",
      "source": [
        "##Exercício 3 – Conversão de Temperatura\n",
        "\n",
        "Crie um programa que converta uma temperatura de Fahrenheit para Celsius.\n",
        "\n",
        " Fórmula: C = (F - 32) × 5/9"
      ],
      "metadata": {
        "id": "DBR7p6XZtogY"
      }
    },
    {
      "cell_type": "code",
      "source": [
        "F = float(input(\"digite o Fahrenheit: \"))"
      ],
      "metadata": {
        "id": "92jE_51AtuM_",
        "outputId": "a00bece3-b909-49a4-c590-8cb30ebf2808",
        "colab": {
          "base_uri": "https://localhost:8080/"
        }
      },
      "execution_count": 20,
      "outputs": [
        {
          "name": "stdout",
          "output_type": "stream",
          "text": [
            "digite o Fahrenheit: 6\n"
          ]
        }
      ]
    },
    {
      "cell_type": "code",
      "source": [
        "Celcius = (F - 32) * 5/9"
      ],
      "metadata": {
        "id": "d5ziUN4ZuG_3"
      },
      "execution_count": 33,
      "outputs": []
    },
    {
      "cell_type": "code",
      "source": [
        "print(f\"o Fahrenheit em Celcius é: {Celcius:.2f}\")"
      ],
      "metadata": {
        "id": "ZDyNkMqyuYD5",
        "outputId": "c367f6b0-6a69-4563-e6f5-dc5c58115782",
        "colab": {
          "base_uri": "https://localhost:8080/"
        }
      },
      "execution_count": 34,
      "outputs": [
        {
          "output_type": "stream",
          "name": "stdout",
          "text": [
            "o Fahrenheit em Celcius é: -14.44\n"
          ]
        }
      ]
    },
    {
      "cell_type": "markdown",
      "source": [
        "##Exercício 4 – Cálculo do IMC\n",
        "\n",
        "Crie um programa que calcule o Índice de Massa Corporal (IMC) de uma pessoa.\n",
        "\n",
        " Fórmula: IMC = peso / altura²"
      ],
      "metadata": {
        "id": "u7TGXOJ2vFxY"
      }
    },
    {
      "cell_type": "code",
      "source": [
        "peso = float(input(\"digite o seu peso : \"))"
      ],
      "metadata": {
        "id": "8sKx26ArvCHA",
        "outputId": "5ac86a9b-9928-460d-bb31-dbe61eb3c46e",
        "colab": {
          "base_uri": "https://localhost:8080/"
        }
      },
      "execution_count": 25,
      "outputs": [
        {
          "name": "stdout",
          "output_type": "stream",
          "text": [
            "digite o seu peso : 57\n"
          ]
        }
      ]
    },
    {
      "cell_type": "code",
      "source": [
        "altura = float(input(\"digite a sua altura: \"))"
      ],
      "metadata": {
        "id": "6I7fIMkqvTnz",
        "outputId": "c9eea6d4-e4e7-43f9-a8be-9f95aab81f21",
        "colab": {
          "base_uri": "https://localhost:8080/"
        }
      },
      "execution_count": 26,
      "outputs": [
        {
          "name": "stdout",
          "output_type": "stream",
          "text": [
            "digite a sua altura: 1.74\n"
          ]
        }
      ]
    },
    {
      "cell_type": "code",
      "source": [
        "IMC = peso / altura**2"
      ],
      "metadata": {
        "id": "2-uXvA6zvmGQ"
      },
      "execution_count": 27,
      "outputs": []
    },
    {
      "cell_type": "code",
      "source": [
        "print(f\"o seu IMC é: {IMC:.2f}\")"
      ],
      "metadata": {
        "id": "AmE6zjGWvtE4",
        "outputId": "499631ed-afac-48a3-b4f8-313a47c8b2fc",
        "colab": {
          "base_uri": "https://localhost:8080/"
        }
      },
      "execution_count": 35,
      "outputs": [
        {
          "output_type": "stream",
          "name": "stdout",
          "text": [
            "o seu IMC é: 18.83\n"
          ]
        }
      ]
    }
  ]
}