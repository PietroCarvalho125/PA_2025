{
  "nbformat": 4,
  "nbformat_minor": 0,
  "metadata": {
    "colab": {
      "provenance": [],
      "include_colab_link": true
    },
    "kernelspec": {
      "name": "python3",
      "display_name": "Python 3"
    },
    "language_info": {
      "name": "python"
    }
  },
  "cells": [
    {
      "cell_type": "markdown",
      "metadata": {
        "id": "view-in-github",
        "colab_type": "text"
      },
      "source": [
        "<a href=\"https://colab.research.google.com/github/PietroCarvalho125/PA_2025/blob/main/Variaveis-e-OperadoresAritimeticos/2C%C3%B3pia_de_Lista_de_exerc%C3%ADcios_Operadores_L%C3%B3gicos_e_Realcionais.ipynb\" target=\"_parent\"><img src=\"https://colab.research.google.com/assets/colab-badge.svg\" alt=\"Open In Colab\"/></a>"
      ]
    },
    {
      "cell_type": "markdown",
      "source": [
        "# Antes de Qualquer coisa Salve uma cópia no seu drive para não perder os códigos"
      ],
      "metadata": {
        "id": "u7J214bEGDpV"
      }
    },
    {
      "cell_type": "markdown",
      "source": [
        "## vá em arquivos: Salvar uma cópia no Drive"
      ],
      "metadata": {
        "id": "zT3Nb6BfGL56"
      }
    },
    {
      "cell_type": "markdown",
      "source": [
        "#Lista de exercícios - Operadores Lógicos e Relacionais\n",
        "\n"
      ],
      "metadata": {
        "id": "IfPXF-sV3xLF"
      }
    },
    {
      "cell_type": "markdown",
      "source": [
        "Em Python, usamos operadores relacionais e lógicos para fazer comparações e tomar decisões com base em condições. Eles são fundamentais na construção de estruturas de controle como if, while e outras."
      ],
      "metadata": {
        "id": "eIwxJUSq3I9d"
      }
    },
    {
      "cell_type": "markdown",
      "source": [
        "✅ Operadores Relacionais\n",
        "\n",
        "Os operadores relacionais comparam dois valores e retornam um resultado booleano (ou seja, True ou False).\n",
        "\n",
        "**Veja os principais:**\n",
        "\n",
        "\"==\" → verifica se dois valores são iguais\n",
        "\n",
        "\"!=\" → verifica se dois valores são diferentes\n",
        "\n",
        "\">\" → verifica se o valor da esquerda é maior\n",
        "\n",
        "\"<\" → verifica se o valor da esquerda é menor\n",
        "\n",
        "\">=\" → verifica se é maior ou igual\n",
        "\n",
        "\"<=\" → verifica se é menor ou igual\n",
        "\n",
        "✅ Operadores Lógicos\n",
        "\n",
        "Os operadores lógicos são usados para combinar condições. Eles também retornam valores booleanos e são muito úteis quando precisamos verificar mais de uma condição ao mesmo tempo.\n",
        "\n",
        "and (E): Retorna True somente se todas as condições forem verdadeiras\n",
        "\n",
        "or (OU): Retorna True se pelo menos uma das condições for verdadeira\n",
        "\n",
        "not (NÃO): Inverte o valor lógico de uma expressão"
      ],
      "metadata": {
        "id": "wZu_EmmK318x"
      }
    },
    {
      "cell_type": "markdown",
      "source": [
        "## Veja os exemplos abaixo - Execute os códigos um a um para entender, troque os valores para ficar mais fácil o entendimento"
      ],
      "metadata": {
        "id": "8vX8RQvs4dsQ"
      }
    },
    {
      "cell_type": "code",
      "source": [
        "# Operadores Relacionais\n",
        "#  1. Igualdade (==) e Diferença (!=)\n",
        "a = 10\n",
        "b = 5\n",
        "\n",
        "print(a == b)\n",
        "print(a != b)"
      ],
      "metadata": {
        "id": "xNVmeRUMU3OU"
      },
      "execution_count": null,
      "outputs": []
    },
    {
      "cell_type": "markdown",
      "source": [
        "## Aplicação em senhas"
      ],
      "metadata": {
        "id": "5CIZb32GBgh3"
      }
    },
    {
      "cell_type": "code",
      "source": [
        "#entrada\n",
        "senhacerta=\"gostopython\"\n",
        "senha = input(\"Digite a senha: \")\n",
        "#processamento\n",
        "logado = senhacerta == senha\n",
        "#saída\n",
        "print(\"Está logado? \", logado)\n"
      ],
      "metadata": {
        "id": "ihCaXz_WBRNX"
      },
      "execution_count": null,
      "outputs": []
    },
    {
      "cell_type": "code",
      "source": [
        "# 2. Comparações (> , < , >= , <=)\n",
        "x = 8\n",
        "y = 12\n",
        "\n",
        "print(\"X é maior que Y?\", x > y)\n",
        "print(\"X é menor que Y?\",x < y)\n",
        "print(\"X é maior ou igual e Y?\",x >= 8)\n",
        "print(\"X é menor ou igual a Y?\",y <= 10)"
      ],
      "metadata": {
        "id": "fLAmvGGTVhPm"
      },
      "execution_count": null,
      "outputs": []
    },
    {
      "cell_type": "markdown",
      "source": [
        "## aplicação do exemplo anterior mais operador lógico"
      ],
      "metadata": {
        "id": "Vy3Q7wF8Cl40"
      }
    },
    {
      "cell_type": "code",
      "source": [
        "# 3. Operador \"AND\" (E) - Ambos precisam ser verdadeiros\n",
        "idade = 11\n",
        "tem_autorizacao = True\n",
        "\n",
        "podentrar = (idade >= 12 and tem_autorizacao)\n",
        "\n",
        "print(\"Pode entrar no evento?\", podentrar)\n"
      ],
      "metadata": {
        "id": "9dj-xWQ1WOe4"
      },
      "execution_count": null,
      "outputs": []
    },
    {
      "cell_type": "markdown",
      "source": [
        "## Com entrada de dados pelo Teclado"
      ],
      "metadata": {
        "id": "MNGl1vEvCSPN"
      }
    },
    {
      "cell_type": "code",
      "source": [
        "idade = int(input(\"Qual sua idade?\"))\n",
        "autorizacao = input(\"Trouxe autorização do seus responsáveis?\") #resposta tem que ser True ou False\n",
        "\n",
        "podentrar = (idade >= 12 and tem_autorizacao)\n",
        "\n",
        "print(\"Pode entrar no evento?\", podentrar)\n"
      ],
      "metadata": {
        "id": "nSqIDj2u-Rpw"
      },
      "execution_count": null,
      "outputs": []
    },
    {
      "cell_type": "markdown",
      "source": [
        "## outra forma de fazer o mesmo exercício, usando outra entrada de dados\n"
      ],
      "metadata": {
        "id": "uNuVUBkrCXpK"
      }
    },
    {
      "cell_type": "code",
      "source": [
        "idade = int(input(\"Qual sua idade? \"))\n",
        "autorizacao = int(input(\"Trouxe autorização do seus responsáveis?\\nDigite 1 para sim \\nDigite 2 para não: \"))\n",
        "\n",
        "verificacao = autorizacao==1\n",
        "\n",
        "podentrar = (idade >= 12 and verificacao)\n",
        "\n",
        "print(\"Pode entrar no evento?\", podentrar)"
      ],
      "metadata": {
        "id": "711Kvx27-4fm"
      },
      "execution_count": null,
      "outputs": []
    },
    {
      "cell_type": "code",
      "source": [
        "# 4. Operador \"OR\" (OU) - Basta um ser verdadeiro\n",
        "tem_ingresso = False\n",
        "nome_na_lista = False\n",
        "\n",
        "podeentrar = tem_ingresso or nome_na_lista\n",
        "\n",
        "print(\"Pode entrar na festa? \", podeentrar )"
      ],
      "metadata": {
        "id": "pR0TrqcMWx1f",
        "colab": {
          "base_uri": "https://localhost:8080/"
        },
        "outputId": "840d8252-816c-413c-fc01-c9884a2dd28b"
      },
      "execution_count": null,
      "outputs": [
        {
          "output_type": "stream",
          "name": "stdout",
          "text": [
            "Pode entrar na festa?  False\n"
          ]
        }
      ]
    },
    {
      "cell_type": "code",
      "source": [
        "# 5. Operador \"NOT\" (NÃO) - Inverte o valor\n",
        "chovendo = True\n",
        "\n",
        "print(not chovendo)"
      ],
      "metadata": {
        "id": "g5C5xYyMW_rZ"
      },
      "execution_count": null,
      "outputs": []
    },
    {
      "cell_type": "code",
      "source": [
        "# 6. Misturando Relacionais + Lógicos\n",
        "nota = 7\n",
        "presenca = 65\n",
        "\n",
        "print(nota >= 6 and presenca >= 75)\n"
      ],
      "metadata": {
        "id": "MCpdGwU1XETi"
      },
      "execution_count": null,
      "outputs": []
    },
    {
      "cell_type": "markdown",
      "source": [
        "##Exemplo: Soma de 3 valores com desconto automático (sem if)\n",
        "\n",
        "O usuário terá desconto se a soma dos valores for maior que R$ 1000,00"
      ],
      "metadata": {
        "id": "t0n3Ajr-Ebfw"
      }
    },
    {
      "cell_type": "code",
      "source": [
        "# 7. com cálculos no meio.\n",
        "\n",
        "# Solicita três valores ao usuário\n",
        "v1 = float(input(\"Digite o valor do primeiro produto: \"))\n",
        "v2 = float(input(\"Digite o valor do segundo produto:  \"))\n",
        "v3 = float(input(\"Digite o valor do terceiro produto:  \"))\n",
        "\n",
        "# Soma total\n",
        "total = v1 + v2 + v3\n",
        "\n",
        "desconto =(total >= 1000)\n",
        "\n",
        "print(\"Vai ter desconto? \", desconto)"
      ],
      "metadata": {
        "id": "GpzpYjATEH_1"
      },
      "execution_count": null,
      "outputs": []
    },
    {
      "cell_type": "markdown",
      "source": [
        "##Seguindo os exemplos anteriores.  Faça os outros em seguida:\n",
        "\n",
        "# Importante: NÃO USE O CONDICIONAL IF. É obrigatório o uso apenas de operadores lógicos, relacioais e variáveis."
      ],
      "metadata": {
        "id": "MIudH-lZ4g35"
      }
    },
    {
      "cell_type": "markdown",
      "source": [
        "1- Solicite ao usuário a idade; Pergunte se está com responsável;\n",
        "\n",
        "Regra: A entrada para o cinema é permitida se a pessoa tiver 14 anos ou mais ou estiver acompanhada de um responsável.\n",
        "\n",
        "Na Saída informa se é True ou False, a possivel entrada no Cinema.\n",
        "\n",
        "Exemplo: Pode entrar no Cinema?....\n",
        "\n",
        "A Resposta esperada sera True ou False"
      ],
      "metadata": {
        "id": "A847ArYB4zIG"
      }
    },
    {
      "cell_type": "code",
      "source": [
        "idade = int(input(\"qual a sua idade? \"))\n",
        "responsavel = int(input(\"esta com responsavel? \\nDigite 1 para sim \\nDigite 2 para não: \"))\n",
        "\n",
        "verificacao = responsavel==1\n",
        "\n",
        "print(\"pode entrar no cinema?\" , idade >= 14 or verificacao)"
      ],
      "metadata": {
        "id": "RWkY0IusDp1F",
        "colab": {
          "base_uri": "https://localhost:8080/"
        },
        "outputId": "6dabde30-8ecb-44a5-f484-a3b65824b956"
      },
      "execution_count": null,
      "outputs": [
        {
          "output_type": "stream",
          "name": "stdout",
          "text": [
            "qual a sua idade? 14\n",
            "esta com responsavel? \n",
            "Digite 1 para sim \n",
            "Digite 2 para não: 2\n",
            "pode entrar no cinema? True\n"
          ]
        }
      ]
    },
    {
      "cell_type": "markdown",
      "source": [
        "2- Um jogador só recebe promoção se: tiver mais de 1000 pontos OU for assinante premium.\n",
        "* Solicite os pontos na primeira entrada;\n",
        "* Solicite que tipo de assinante ele é;\n",
        "* Na saída informa se é Verdadeiro ou Falso a promoção;"
      ],
      "metadata": {
        "id": "1Z7RsUTF44M5"
      }
    },
    {
      "cell_type": "code",
      "source": [
        "pontos = int(input(\"quantos pontos voce tem? \"))\n",
        "assinante = int(input(\"voce é assinante Premium? \\nDigite 1 para sim \\nDigite 2 para não: \"))\n",
        "\n",
        "promocao = assinante==1\n",
        "\n",
        "print(\"ira receber a promoção? \" , pontos >= 1000 or promocao)"
      ],
      "metadata": {
        "id": "QRHx7-KtDqVZ",
        "colab": {
          "base_uri": "https://localhost:8080/"
        },
        "outputId": "0f9e6b94-07d3-4c95-ebdb-b2242aef2e17"
      },
      "execution_count": null,
      "outputs": [
        {
          "output_type": "stream",
          "name": "stdout",
          "text": [
            "quantos pontos voce tem? 700\n",
            "voce é assinante Premium? \n",
            "Digite 1 para sim \n",
            "Digite 2 para não: 1\n",
            "ira receber a promoção?  True\n"
          ]
        }
      ]
    },
    {
      "cell_type": "markdown",
      "source": [
        "3- Solicite um valor ao usuário.\n",
        "* Verifique se o número que o usuário digitou está entre 10 e 20\n",
        "* Na saída infome se é verdadeiro ou falso. }Exemplo saída. \"O número está entre 10 e 20\". A resposta será True ou False."
      ],
      "metadata": {
        "id": "tAFfmQ8u459E"
      }
    },
    {
      "cell_type": "code",
      "source": [
        "numero = int(input(\"digite um numero: \"))\n",
        "\n",
        "numeros = numero >= 10 and numero <= 20\n",
        "\n",
        "print(\"O número está entre 10 e 20?\" , numeros)"
      ],
      "metadata": {
        "id": "6WjvOAV_DqsF",
        "colab": {
          "base_uri": "https://localhost:8080/"
        },
        "outputId": "60f4b59f-3904-4205-d836-15587de67fd7"
      },
      "execution_count": null,
      "outputs": [
        {
          "output_type": "stream",
          "name": "stdout",
          "text": [
            "digite um numero: 17\n",
            "O número está entre 10 e 20? True\n"
          ]
        }
      ]
    },
    {
      "cell_type": "markdown",
      "source": [
        "4- Solicite a idade da pessoa, e pergunte quanto ela tem em dinheiro.\n",
        "\n",
        "* A pessoa pode fazer uma viagem se: tiver mais de 18 anos E tiver mais de R$ 2000,00\n",
        "\n",
        "* Na Saída informe se é Verdeiro ou falso A possibilidade da Viagem. Exemplo: Vai viajar? - O retorno será True or False"
      ],
      "metadata": {
        "id": "gx_l2c025hNr"
      }
    },
    {
      "cell_type": "code",
      "source": [
        "idade = int(input(\"Qual a sua idade? \"))\n",
        "dinheiro = int(input(\"Quantos reais voce tem? \"))\n",
        "\n",
        "reais = dinheiro >= 2000\n",
        "anos = idade >= 18\n",
        "\n",
        "print(\"Voce vai viajar? \" , reais and anos)"
      ],
      "metadata": {
        "id": "__EsZX4nDrF8",
        "colab": {
          "base_uri": "https://localhost:8080/"
        },
        "outputId": "cbc52e9a-4859-4c9f-b2de-3c32b91f3c96"
      },
      "execution_count": null,
      "outputs": [
        {
          "output_type": "stream",
          "name": "stdout",
          "text": [
            "Qual a sua idade? 20\n",
            "Quantos reais voce tem? 2500\n",
            "Voce vai viajar?  True\n"
          ]
        }
      ]
    },
    {
      "cell_type": "markdown",
      "source": [
        "5- Solicite a idade da pessoa, e pergunte quanto ela tem em dinheiro e agora pergunte se ela vai viajar com os pais.\n",
        "\n",
        "* A pessoa pode fazer uma viagem se: (tiver mais de 18 anos E tiver mais de R$ 2000,00) ou se ela estiver com os pais.\n",
        "\n",
        "* Na Saída informe se é Verdeiro ou falso A possibilidade da Viagem. Exemplo: Vai viajar? - O retorno será True or False\n"
      ],
      "metadata": {
        "id": "e4zE89vu6AsO"
      }
    },
    {
      "cell_type": "code",
      "source": [
        "idade = int(input(\"Qual sua idade? \"))\n",
        "dinheiro = int(input(\"Quantos reais voce tem? \"))\n",
        "Pais = input(\"esta com os seus Pais? \\nDigite 1 para sim \\nDigite 2 para não: \")\n",
        "\n",
        "PodeViajar = ( dinheiro >= 2000 and idade >= 18)\n",
        "\n",
        "print(\"vai viajar? \" , PodeViajar or (Pais == \"1\"))"
      ],
      "metadata": {
        "id": "FIj0zQUXDrif",
        "colab": {
          "base_uri": "https://localhost:8080/"
        },
        "outputId": "4ed779a9-50f6-4dbe-a1d9-f84601cf8b45"
      },
      "execution_count": null,
      "outputs": [
        {
          "output_type": "stream",
          "name": "stdout",
          "text": [
            "Qual sua idade? 18\n",
            "Quantos reais voce tem? 2500\n",
            "esta com os seus Pais? \n",
            "Digite 1 para sim \n",
            "Digite 2 para não: 2\n",
            "vai viajar?  True\n"
          ]
        }
      ]
    },
    {
      "cell_type": "markdown",
      "source": [
        "6-Solicite três notas ao usuário e calcule a média e também solicite quantos dias letivos tem no ano e quantas faltas ele teve.\n",
        "\n",
        "* Calcule a média (somando as notas e dividindo por 3)\n",
        "* Calcule o percential de faltas (Divida a quantidade de faltas pela quantidade de dias letivos e multiplique por 100).\n",
        "* Depois subtraia de 100 esse valor e obterá o percentual de presença\n",
        "\n",
        "Exemplo se o aluno faltou 5 vezes em 100 dias letivos:\n",
        "\n",
        "faltas = 5/100, obterá: 0,05, que multiplicando por 100 será 5.\n",
        "result = faltas * 100. Ou seja, 5% de faltas.\n",
        "\n",
        "percentual = 100 - result. Valor obtido nesse caso será 95, que representa 95% de presença.\n",
        "\n",
        "\n",
        "* Para passar de ano, o aluno precisa de nota maior ou igual a 6 E presença maior ou igual a 75%\n",
        "\n",
        "* Na saída informe se é verdadeiro ou falso que ele irá passar de ano. Exemplo: Vai passar de Ano? Ira ter como resposta: True or False\n"
      ],
      "metadata": {
        "id": "YwP3YbWN41v1"
      }
    },
    {
      "cell_type": "code",
      "source": [
        "# Entrada\n",
        "Nota = float(input(\"Digite a primeira nota: \"))\n",
        "Nota2 = float(input(\"Digite a segunda nota: \"))\n",
        "Nota3 = float(input(\"Digite a terceira nota: \"))\n",
        "\n",
        "falta = int(input(\"Digite a quantidade de faltas: \"))\n",
        "dias = int(input(\"Digite a quantidade de dias letivos: \"))\n",
        "\n",
        "# Processamento\n",
        "media = (Nota + Nota2 + Nota3) /3\n",
        "faltas = (falta/dias) * 100\n",
        "result = faltas * 100\n",
        "percentual = 100 - ((falta/dias)*100)\n",
        "passou = (media >= 6 and percentual >= 75)\n",
        "\n",
        "# Saida\n",
        "print(\"Vai passar de ano? \", (passou))"
      ],
      "metadata": {
        "id": "BjfMiCxRDr-h",
        "colab": {
          "base_uri": "https://localhost:8080/"
        },
        "outputId": "68786677-d934-4670-b1ad-7c500972ceb8"
      },
      "execution_count": 54,
      "outputs": [
        {
          "output_type": "stream",
          "name": "stdout",
          "text": [
            "Digite a primeira nota: 9\n",
            "Digite a segunda nota: 9\n",
            "Digite a terceira nota: 7\n",
            "Digite a quantidade de faltas: 10\n",
            "Digite a quantidade de dias letivos: 100\n",
            "Vai passar de ano?  True\n"
          ]
        }
      ]
    },
    {
      "cell_type": "markdown",
      "source": [
        "7) Peça para o usuário digitar um valor informe se ele é par ou impar"
      ],
      "metadata": {
        "id": "IOXzmuPgzrUz"
      }
    },
    {
      "cell_type": "code",
      "source": [
        "valor = int(input(\"Digite um valor: \"))\n",
        "\n",
        "impar = valor %2 > 0\n",
        "par = valor %2 == 0\n",
        "\n",
        "print(\"O valor é par? \" , par)\n",
        "print(\"O valor é impar? \" , impar)"
      ],
      "metadata": {
        "id": "W3s-pjSNzuxj",
        "colab": {
          "base_uri": "https://localhost:8080/"
        },
        "outputId": "18ce8e94-2374-4cf5-9efd-92903a78a375"
      },
      "execution_count": 1,
      "outputs": [
        {
          "output_type": "stream",
          "name": "stdout",
          "text": [
            "Digite um valor: 440\n",
            "O valor é par?  True\n",
            "O valor é impar?  False\n"
          ]
        }
      ]
    },
    {
      "cell_type": "markdown",
      "source": [
        "8 ) Faça um algoritmo em Python que receba o valor de três lados de um possível triângulo (l1, l2 e l3) e utilize operadores relacionais e lógicos para:\n",
        "\n",
        "1.\tVerificar se os valores informados podem formar um triângulo.\n",
        "2.\tIdentificar se o triângulo é equilátero, escaleno ou isósceles.\n",
        "\n",
        "O programa deve atribuir True ou False para cada uma das seguintes variáveis:\n",
        "* triangulo: True se os lados puderem formar um triângulo.\n",
        "* equilatero: True se o triângulo for equilátero.\n",
        "* escaleno: True se o triângulo for escaleno.\n",
        "* isosceles: True se o triângulo for isósceles.\n",
        "\n",
        "Dica: Um triângulo só é possível se a soma de dois lados for maior que o terceiro, para os três pares possíveis.\n",
        "\n",
        "Lógica necessária\n",
        "\n",
        "Para ser um triângulo:\n",
        "\n",
        "* l1+l2>l3 e\n",
        "* l1+l3>l2l e\n",
        "* l2+l3>l1\n",
        "\n",
        "Tipos de triângulo:\n",
        "* Equilátero: todos os lados iguais.\n",
        "* Escaleno: todos os lados diferentes.\n",
        "* Isósceles: dois lados iguais."
      ],
      "metadata": {
        "id": "fDwuVk9JzvWr"
      }
    },
    {
      "cell_type": "code",
      "source": [
        "# entrada\n",
        "Lado1 = float(input(\"Digite o primeiro Lado: \"))\n",
        "Lado2 = float(input(\"Digite o segundo Lado: \"))\n",
        "Lado3 = float(input(\"Digite o terceiro Lado: \"))\n",
        "\n",
        "# Processamento\n",
        "triangulo = (Lado1 + Lado2 > Lado3) and (Lado1 + Lado3 > Lado2) and (Lado2 + Lado3 > Lado1)\n",
        "\n",
        "equilatero = (Lado1 == Lado2 == Lado3)\n",
        "escaleno = (Lado1 != Lado2 ) and (Lado1 != Lado3) and (Lado2 != Lado3)\n",
        "isoceles = (Lado1 == Lado2 != Lado3) or (Lado2 == Lado3 != Lado1) or (Lado1 == Lado3 != Lado2)\n",
        "\n",
        "# saida\n",
        "print(\"É um triangulo? \", triangulo)\n",
        "print(\"É um equilatero?\" , equilatero)\n",
        "print(\"É um escaleno? \", escaleno and triangulo)\n",
        "print(\"É isóleces? \", isoceles and triangulo)"
      ],
      "metadata": {
        "id": "K57FadkSz1DL",
        "colab": {
          "base_uri": "https://localhost:8080/"
        },
        "outputId": "bea52a3c-d844-421b-8c7f-eaa19d6a5932"
      },
      "execution_count": 62,
      "outputs": [
        {
          "output_type": "stream",
          "name": "stdout",
          "text": [
            "Digite o primeiro Lado: 2\n",
            "Digite o segundo Lado: 10\n",
            "Digite o terceiro Lado: 10\n",
            "É um triangulo?  True\n",
            "É um equilatero? False\n",
            "É um escaleno?  False\n",
            "É isóleces?  True\n"
          ]
        }
      ]
    },
    {
      "cell_type": "markdown",
      "source": [
        "9) Faça um programa que solicite peso e altura, informe seu IMC. Ao final informe se ele está, abaixo do peso,peso ideal ou acima do peso. fórmula do IMC: (peso/altura^2), siga a tabela abaixo:\n",
        "\n",
        "IMC \t                    \n",
        "* Menos do que 18,5 ==> Abaixo do Peso\n",
        "* Entre 18,5 e 24,9  ==>Peso normal\n",
        "* Entre 25 e 29,9  ==> \tSobrepeso\n",
        "* Entre 30 e 34,9  ==> \tObesidade grau 1\n",
        "* Entre 35 e 39,9  ==> \tObesidade grau 2\n",
        "* Mais do que 40 \t  ==> Obesidade grau 3"
      ],
      "metadata": {
        "id": "ymt6F0gqz2E7"
      }
    },
    {
      "cell_type": "code",
      "source": [
        "# Entrada\n",
        "peso = float(input(\"Digite seu peso: \"))\n",
        "altura = float(input(\"Digite sua altura:\"))\n",
        "imc = peso / altura**2\n",
        "\n",
        "# Processamento\n",
        "abaixo = (imc < 18.5)\n",
        "normal = imc >= 18.5 and imc <= 24.9\n",
        "sobrepeso = imc >= 25 and imc <= 29.9\n",
        "obesidade1 = imc >= 30 and imc <= 34.9\n",
        "obesidade2 = imc >= 35 and imc <= 39.9\n",
        "obesidade3 = (imc >= 40)\n",
        "\n",
        "# Saida\n",
        "print(\"Abaixo do peso: \", {abaixo})\n",
        "print(\"Peso normal: \", {normal})\n",
        "print(\"Sobrepeso: \", {sobrepeso})\n",
        "print(\"Obesidade grau 1: \", {obesidade1})\n",
        "print(\"Obesidade grau 2: \", {obesidade2})\n",
        "print(\"Obesidade grau 3: \", {obesidade3})"
      ],
      "metadata": {
        "id": "RDkZYCOVz50b",
        "colab": {
          "base_uri": "https://localhost:8080/"
        },
        "outputId": "81eae1c9-7d4b-46de-9322-58d04aeb669a"
      },
      "execution_count": 63,
      "outputs": [
        {
          "output_type": "stream",
          "name": "stdout",
          "text": [
            "Digite seu peso: 70\n",
            "Digite sua altura:1.5\n",
            "Abaixo do peso:  {False}\n",
            "Peso normal:  {False}\n",
            "Sobrepeso:  {False}\n",
            "Obesidade grau 1:  {True}\n",
            "Obesidade grau 2:  {False}\n",
            "Obesidade grau 3:  {False}\n"
          ]
        }
      ]
    },
    {
      "cell_type": "markdown",
      "source": [
        "4) Faça um programa que solicite altura e idade do usuário, informe se ele pode ou nao competir. Regras: Para competir no campeonato de vôlei o usuário de ter pelo menos 1.75 de altura e 18 anos."
      ],
      "metadata": {
        "id": "29dWEOf3z9hj"
      }
    },
    {
      "cell_type": "code",
      "source": [
        "idade = int(input(\"Quantos anos você tem? \"))\n",
        "altura = float(input(\"Qual a sua altura em Metros? \"))\n",
        "\n",
        "anos = idade >= 18\n",
        "tamanho = altura >= 1.75\n",
        "\n",
        "print(\"Vai poder competir? \" , anos and tamanho)"
      ],
      "metadata": {
        "id": "GmDaYiUvz_TZ",
        "colab": {
          "base_uri": "https://localhost:8080/"
        },
        "outputId": "efac8529-9c8b-46e0-80b9-d43ede36dd9e"
      },
      "execution_count": null,
      "outputs": [
        {
          "output_type": "stream",
          "name": "stdout",
          "text": [
            "Quantos anos você tem? 15\n",
            "Qual a sua altura em Metros? 1.90\n",
            "Vai poder competir?  False\n"
          ]
        }
      ]
    }
  ]
}